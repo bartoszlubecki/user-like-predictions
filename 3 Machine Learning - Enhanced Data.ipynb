{
 "cells": [
  {
   "cell_type": "markdown",
   "metadata": {},
   "source": [
    "# 3 Machine Learning - Enhanced Data"
   ]
  },
  {
   "cell_type": "markdown",
   "metadata": {},
   "source": [
    "A score of 1.5 on Neuroticism means different things for a 40 year old male and a 16 year old female. I think that could be the reason for lower Pearson product-moment correlation values for Big Five traits.\n",
    "\n",
    "The International Personality Item Pool (IPIP) is a public domain collection of items for use in personality tests managed by the Oregon Research Institute. On their site we can read:\n",
    "\n",
    "\"To interpret individuals' [personality] scores, one might calculate the mean and standard deviation (SD) for a sample of persons, usually of the same sex and a particular age range, and interpret scores within one-half SD of the mean as \"average.\"\n",
    "\n",
    "That was the reason why I suspected the results of personality predictions were so low - they were based only on Facebook Likes and not Users' age or gender. And while liking a young celebrity or influencer may give some indication of Users' age and gender, if we have this data explicitly stated as a reference for personality scores, I believe we can get much better predictions."
   ]
  },
  {
   "cell_type": "code",
   "execution_count": 1,
   "metadata": {},
   "outputs": [],
   "source": [
    "from sklearn.linear_model import LogisticRegression, LinearRegression, SGDRegressor\n",
    "from sklearn.svm import LinearSVC\n",
    "from sklearn.model_selection import cross_val_score, train_test_split\n",
    "from sklearn.metrics import make_scorer\n",
    "from sklearn.decomposition import LatentDirichletAllocation, TruncatedSVD\n",
    "from scipy.stats import pearsonr\n",
    "import numpy as np\n",
    "import pandas as pd\n",
    "import matplotlib.pyplot as plt\n",
    "%matplotlib inline\n",
    "\n",
    "from utils import load_user_like_matrix, plot_roc_curve"
   ]
  },
  {
   "cell_type": "code",
   "execution_count": 2,
   "metadata": {},
   "outputs": [],
   "source": [
    "users = pd.read_csv('data/users_trimmed.csv')\n",
    "users = users.drop(['political', 'userid'], axis='columns')"
   ]
  },
  {
   "cell_type": "code",
   "execution_count": 3,
   "metadata": {},
   "outputs": [],
   "source": [
    "users = users.drop('Unnamed: 0', axis='columns')"
   ]
  },
  {
   "cell_type": "code",
   "execution_count": 4,
   "metadata": {},
   "outputs": [
    {
     "data": {
      "text/html": [
       "<div>\n",
       "<style scoped>\n",
       "    .dataframe tbody tr th:only-of-type {\n",
       "        vertical-align: middle;\n",
       "    }\n",
       "\n",
       "    .dataframe tbody tr th {\n",
       "        vertical-align: top;\n",
       "    }\n",
       "\n",
       "    .dataframe thead th {\n",
       "        text-align: right;\n",
       "    }\n",
       "</style>\n",
       "<table border=\"1\" class=\"dataframe\">\n",
       "  <thead>\n",
       "    <tr style=\"text-align: right;\">\n",
       "      <th></th>\n",
       "      <th>gender</th>\n",
       "      <th>age</th>\n",
       "      <th>ope</th>\n",
       "      <th>con</th>\n",
       "      <th>ext</th>\n",
       "      <th>agr</th>\n",
       "      <th>neu</th>\n",
       "    </tr>\n",
       "  </thead>\n",
       "  <tbody>\n",
       "    <tr>\n",
       "      <th>0</th>\n",
       "      <td>0</td>\n",
       "      <td>47</td>\n",
       "      <td>-0.31</td>\n",
       "      <td>-0.57</td>\n",
       "      <td>-0.89</td>\n",
       "      <td>0.41</td>\n",
       "      <td>1.17</td>\n",
       "    </tr>\n",
       "    <tr>\n",
       "      <th>1</th>\n",
       "      <td>0</td>\n",
       "      <td>35</td>\n",
       "      <td>0.61</td>\n",
       "      <td>-0.12</td>\n",
       "      <td>-0.64</td>\n",
       "      <td>-1.01</td>\n",
       "      <td>-1.50</td>\n",
       "    </tr>\n",
       "    <tr>\n",
       "      <th>2</th>\n",
       "      <td>1</td>\n",
       "      <td>29</td>\n",
       "      <td>-0.31</td>\n",
       "      <td>-0.94</td>\n",
       "      <td>-0.77</td>\n",
       "      <td>-1.76</td>\n",
       "      <td>1.05</td>\n",
       "    </tr>\n",
       "    <tr>\n",
       "      <th>3</th>\n",
       "      <td>1</td>\n",
       "      <td>28</td>\n",
       "      <td>-0.68</td>\n",
       "      <td>0.54</td>\n",
       "      <td>-0.52</td>\n",
       "      <td>-1.01</td>\n",
       "      <td>-0.51</td>\n",
       "    </tr>\n",
       "    <tr>\n",
       "      <th>4</th>\n",
       "      <td>0</td>\n",
       "      <td>35</td>\n",
       "      <td>-0.41</td>\n",
       "      <td>-0.86</td>\n",
       "      <td>-1.02</td>\n",
       "      <td>-0.18</td>\n",
       "      <td>0.30</td>\n",
       "    </tr>\n",
       "    <tr>\n",
       "      <th>...</th>\n",
       "      <td>...</td>\n",
       "      <td>...</td>\n",
       "      <td>...</td>\n",
       "      <td>...</td>\n",
       "      <td>...</td>\n",
       "      <td>...</td>\n",
       "      <td>...</td>\n",
       "    </tr>\n",
       "    <tr>\n",
       "      <th>19737</th>\n",
       "      <td>1</td>\n",
       "      <td>23</td>\n",
       "      <td>-0.31</td>\n",
       "      <td>-1.97</td>\n",
       "      <td>-1.21</td>\n",
       "      <td>-1.09</td>\n",
       "      <td>1.79</td>\n",
       "    </tr>\n",
       "    <tr>\n",
       "      <th>19738</th>\n",
       "      <td>1</td>\n",
       "      <td>26</td>\n",
       "      <td>1.26</td>\n",
       "      <td>0.17</td>\n",
       "      <td>1.11</td>\n",
       "      <td>0.12</td>\n",
       "      <td>0.18</td>\n",
       "    </tr>\n",
       "    <tr>\n",
       "      <th>19739</th>\n",
       "      <td>1</td>\n",
       "      <td>20</td>\n",
       "      <td>-0.04</td>\n",
       "      <td>0.69</td>\n",
       "      <td>0.17</td>\n",
       "      <td>0.82</td>\n",
       "      <td>0.80</td>\n",
       "    </tr>\n",
       "    <tr>\n",
       "      <th>19740</th>\n",
       "      <td>1</td>\n",
       "      <td>35</td>\n",
       "      <td>1.63</td>\n",
       "      <td>-0.72</td>\n",
       "      <td>1.86</td>\n",
       "      <td>1.41</td>\n",
       "      <td>-1.01</td>\n",
       "    </tr>\n",
       "    <tr>\n",
       "      <th>19741</th>\n",
       "      <td>0</td>\n",
       "      <td>26</td>\n",
       "      <td>0.24</td>\n",
       "      <td>0.17</td>\n",
       "      <td>0.73</td>\n",
       "      <td>-0.34</td>\n",
       "      <td>-0.32</td>\n",
       "    </tr>\n",
       "  </tbody>\n",
       "</table>\n",
       "<p>19742 rows × 7 columns</p>\n",
       "</div>"
      ],
      "text/plain": [
       "       gender  age   ope   con   ext   agr   neu\n",
       "0           0   47 -0.31 -0.57 -0.89  0.41  1.17\n",
       "1           0   35  0.61 -0.12 -0.64 -1.01 -1.50\n",
       "2           1   29 -0.31 -0.94 -0.77 -1.76  1.05\n",
       "3           1   28 -0.68  0.54 -0.52 -1.01 -0.51\n",
       "4           0   35 -0.41 -0.86 -1.02 -0.18  0.30\n",
       "...       ...  ...   ...   ...   ...   ...   ...\n",
       "19737       1   23 -0.31 -1.97 -1.21 -1.09  1.79\n",
       "19738       1   26  1.26  0.17  1.11  0.12  0.18\n",
       "19739       1   20 -0.04  0.69  0.17  0.82  0.80\n",
       "19740       1   35  1.63 -0.72  1.86  1.41 -1.01\n",
       "19741       0   26  0.24  0.17  0.73 -0.34 -0.32\n",
       "\n",
       "[19742 rows x 7 columns]"
      ]
     },
     "execution_count": 4,
     "metadata": {},
     "output_type": "execute_result"
    }
   ],
   "source": [
    "users"
   ]
  },
  {
   "cell_type": "code",
   "execution_count": 5,
   "metadata": {},
   "outputs": [],
   "source": [
    "df = load_user_like_matrix()"
   ]
  },
  {
   "cell_type": "markdown",
   "metadata": {},
   "source": [
    "## SVD <i>k</i> = 50"
   ]
  },
  {
   "cell_type": "markdown",
   "metadata": {},
   "source": [
    "As with the baseline I'll start with 50 dimensions for SVD."
   ]
  },
  {
   "cell_type": "markdown",
   "metadata": {},
   "source": [
    "Data preparation:"
   ]
  },
  {
   "cell_type": "code",
   "execution_count": 6,
   "metadata": {},
   "outputs": [],
   "source": [
    "svd_50 = TruncatedSVD(n_components=50, random_state=42)"
   ]
  },
  {
   "cell_type": "code",
   "execution_count": 7,
   "metadata": {},
   "outputs": [
    {
     "data": {
      "text/html": [
       "<style>#sk-container-id-1 {color: black;background-color: white;}#sk-container-id-1 pre{padding: 0;}#sk-container-id-1 div.sk-toggleable {background-color: white;}#sk-container-id-1 label.sk-toggleable__label {cursor: pointer;display: block;width: 100%;margin-bottom: 0;padding: 0.3em;box-sizing: border-box;text-align: center;}#sk-container-id-1 label.sk-toggleable__label-arrow:before {content: \"▸\";float: left;margin-right: 0.25em;color: #696969;}#sk-container-id-1 label.sk-toggleable__label-arrow:hover:before {color: black;}#sk-container-id-1 div.sk-estimator:hover label.sk-toggleable__label-arrow:before {color: black;}#sk-container-id-1 div.sk-toggleable__content {max-height: 0;max-width: 0;overflow: hidden;text-align: left;background-color: #f0f8ff;}#sk-container-id-1 div.sk-toggleable__content pre {margin: 0.2em;color: black;border-radius: 0.25em;background-color: #f0f8ff;}#sk-container-id-1 input.sk-toggleable__control:checked~div.sk-toggleable__content {max-height: 200px;max-width: 100%;overflow: auto;}#sk-container-id-1 input.sk-toggleable__control:checked~label.sk-toggleable__label-arrow:before {content: \"▾\";}#sk-container-id-1 div.sk-estimator input.sk-toggleable__control:checked~label.sk-toggleable__label {background-color: #d4ebff;}#sk-container-id-1 div.sk-label input.sk-toggleable__control:checked~label.sk-toggleable__label {background-color: #d4ebff;}#sk-container-id-1 input.sk-hidden--visually {border: 0;clip: rect(1px 1px 1px 1px);clip: rect(1px, 1px, 1px, 1px);height: 1px;margin: -1px;overflow: hidden;padding: 0;position: absolute;width: 1px;}#sk-container-id-1 div.sk-estimator {font-family: monospace;background-color: #f0f8ff;border: 1px dotted black;border-radius: 0.25em;box-sizing: border-box;margin-bottom: 0.5em;}#sk-container-id-1 div.sk-estimator:hover {background-color: #d4ebff;}#sk-container-id-1 div.sk-parallel-item::after {content: \"\";width: 100%;border-bottom: 1px solid gray;flex-grow: 1;}#sk-container-id-1 div.sk-label:hover label.sk-toggleable__label {background-color: #d4ebff;}#sk-container-id-1 div.sk-serial::before {content: \"\";position: absolute;border-left: 1px solid gray;box-sizing: border-box;top: 0;bottom: 0;left: 50%;z-index: 0;}#sk-container-id-1 div.sk-serial {display: flex;flex-direction: column;align-items: center;background-color: white;padding-right: 0.2em;padding-left: 0.2em;position: relative;}#sk-container-id-1 div.sk-item {position: relative;z-index: 1;}#sk-container-id-1 div.sk-parallel {display: flex;align-items: stretch;justify-content: center;background-color: white;position: relative;}#sk-container-id-1 div.sk-item::before, #sk-container-id-1 div.sk-parallel-item::before {content: \"\";position: absolute;border-left: 1px solid gray;box-sizing: border-box;top: 0;bottom: 0;left: 50%;z-index: -1;}#sk-container-id-1 div.sk-parallel-item {display: flex;flex-direction: column;z-index: 1;position: relative;background-color: white;}#sk-container-id-1 div.sk-parallel-item:first-child::after {align-self: flex-end;width: 50%;}#sk-container-id-1 div.sk-parallel-item:last-child::after {align-self: flex-start;width: 50%;}#sk-container-id-1 div.sk-parallel-item:only-child::after {width: 0;}#sk-container-id-1 div.sk-dashed-wrapped {border: 1px dashed gray;margin: 0 0.4em 0.5em 0.4em;box-sizing: border-box;padding-bottom: 0.4em;background-color: white;}#sk-container-id-1 div.sk-label label {font-family: monospace;font-weight: bold;display: inline-block;line-height: 1.2em;}#sk-container-id-1 div.sk-label-container {text-align: center;}#sk-container-id-1 div.sk-container {/* jupyter's `normalize.less` sets `[hidden] { display: none; }` but bootstrap.min.css set `[hidden] { display: none !important; }` so we also need the `!important` here to be able to override the default hidden behavior on the sphinx rendered scikit-learn.org. See: https://github.com/scikit-learn/scikit-learn/issues/21755 */display: inline-block !important;position: relative;}#sk-container-id-1 div.sk-text-repr-fallback {display: none;}</style><div id=\"sk-container-id-1\" class=\"sk-top-container\"><div class=\"sk-text-repr-fallback\"><pre>TruncatedSVD(n_components=50, random_state=42)</pre><b>In a Jupyter environment, please rerun this cell to show the HTML representation or trust the notebook. <br />On GitHub, the HTML representation is unable to render, please try loading this page with nbviewer.org.</b></div><div class=\"sk-container\" hidden><div class=\"sk-item\"><div class=\"sk-estimator sk-toggleable\"><input class=\"sk-toggleable__control sk-hidden--visually\" id=\"sk-estimator-id-1\" type=\"checkbox\" checked><label for=\"sk-estimator-id-1\" class=\"sk-toggleable__label sk-toggleable__label-arrow\">TruncatedSVD</label><div class=\"sk-toggleable__content\"><pre>TruncatedSVD(n_components=50, random_state=42)</pre></div></div></div></div></div>"
      ],
      "text/plain": [
       "TruncatedSVD(n_components=50, random_state=42)"
      ]
     },
     "execution_count": 7,
     "metadata": {},
     "output_type": "execute_result"
    }
   ],
   "source": [
    "svd_50.fit(df)"
   ]
  },
  {
   "cell_type": "code",
   "execution_count": 8,
   "metadata": {},
   "outputs": [],
   "source": [
    "X_svd_50 = svd_50.transform(df)"
   ]
  },
  {
   "cell_type": "code",
   "execution_count": 9,
   "metadata": {},
   "outputs": [],
   "source": [
    "X_svd_50 = pd.DataFrame(X_svd_50)"
   ]
  },
  {
   "cell_type": "code",
   "execution_count": 10,
   "metadata": {},
   "outputs": [],
   "source": [
    "merged_svd_50 = pd.concat([users, X_svd_50], axis=1)"
   ]
  },
  {
   "cell_type": "code",
   "execution_count": 11,
   "metadata": {},
   "outputs": [
    {
     "data": {
      "text/html": [
       "<div>\n",
       "<style scoped>\n",
       "    .dataframe tbody tr th:only-of-type {\n",
       "        vertical-align: middle;\n",
       "    }\n",
       "\n",
       "    .dataframe tbody tr th {\n",
       "        vertical-align: top;\n",
       "    }\n",
       "\n",
       "    .dataframe thead th {\n",
       "        text-align: right;\n",
       "    }\n",
       "</style>\n",
       "<table border=\"1\" class=\"dataframe\">\n",
       "  <thead>\n",
       "    <tr style=\"text-align: right;\">\n",
       "      <th></th>\n",
       "      <th>gender</th>\n",
       "      <th>age</th>\n",
       "      <th>ope</th>\n",
       "      <th>con</th>\n",
       "      <th>ext</th>\n",
       "      <th>agr</th>\n",
       "      <th>neu</th>\n",
       "      <th>0</th>\n",
       "      <th>1</th>\n",
       "      <th>2</th>\n",
       "      <th>...</th>\n",
       "      <th>40</th>\n",
       "      <th>41</th>\n",
       "      <th>42</th>\n",
       "      <th>43</th>\n",
       "      <th>44</th>\n",
       "      <th>45</th>\n",
       "      <th>46</th>\n",
       "      <th>47</th>\n",
       "      <th>48</th>\n",
       "      <th>49</th>\n",
       "    </tr>\n",
       "  </thead>\n",
       "  <tbody>\n",
       "    <tr>\n",
       "      <th>0</th>\n",
       "      <td>0</td>\n",
       "      <td>47</td>\n",
       "      <td>-0.31</td>\n",
       "      <td>-0.57</td>\n",
       "      <td>-0.89</td>\n",
       "      <td>0.41</td>\n",
       "      <td>1.17</td>\n",
       "      <td>0.242033</td>\n",
       "      <td>-0.407787</td>\n",
       "      <td>0.461242</td>\n",
       "      <td>...</td>\n",
       "      <td>-0.166992</td>\n",
       "      <td>0.086621</td>\n",
       "      <td>0.452880</td>\n",
       "      <td>-0.251522</td>\n",
       "      <td>0.112301</td>\n",
       "      <td>-0.134991</td>\n",
       "      <td>-0.022330</td>\n",
       "      <td>0.067848</td>\n",
       "      <td>0.028435</td>\n",
       "      <td>-0.188740</td>\n",
       "    </tr>\n",
       "    <tr>\n",
       "      <th>1</th>\n",
       "      <td>0</td>\n",
       "      <td>35</td>\n",
       "      <td>0.61</td>\n",
       "      <td>-0.12</td>\n",
       "      <td>-0.64</td>\n",
       "      <td>-1.01</td>\n",
       "      <td>-1.50</td>\n",
       "      <td>0.430053</td>\n",
       "      <td>-0.701633</td>\n",
       "      <td>0.507358</td>\n",
       "      <td>...</td>\n",
       "      <td>-0.166240</td>\n",
       "      <td>-0.126951</td>\n",
       "      <td>0.206703</td>\n",
       "      <td>-0.675187</td>\n",
       "      <td>-0.208379</td>\n",
       "      <td>-0.279976</td>\n",
       "      <td>-0.483428</td>\n",
       "      <td>-0.049299</td>\n",
       "      <td>0.315360</td>\n",
       "      <td>0.122851</td>\n",
       "    </tr>\n",
       "    <tr>\n",
       "      <th>2</th>\n",
       "      <td>1</td>\n",
       "      <td>29</td>\n",
       "      <td>-0.31</td>\n",
       "      <td>-0.94</td>\n",
       "      <td>-0.77</td>\n",
       "      <td>-1.76</td>\n",
       "      <td>1.05</td>\n",
       "      <td>0.720854</td>\n",
       "      <td>-1.007212</td>\n",
       "      <td>0.147107</td>\n",
       "      <td>...</td>\n",
       "      <td>0.105962</td>\n",
       "      <td>-0.053665</td>\n",
       "      <td>0.308653</td>\n",
       "      <td>0.094177</td>\n",
       "      <td>0.132226</td>\n",
       "      <td>-0.520239</td>\n",
       "      <td>-0.247787</td>\n",
       "      <td>0.174664</td>\n",
       "      <td>0.228318</td>\n",
       "      <td>0.093811</td>\n",
       "    </tr>\n",
       "    <tr>\n",
       "      <th>3</th>\n",
       "      <td>1</td>\n",
       "      <td>28</td>\n",
       "      <td>-0.68</td>\n",
       "      <td>0.54</td>\n",
       "      <td>-0.52</td>\n",
       "      <td>-1.01</td>\n",
       "      <td>-0.51</td>\n",
       "      <td>1.285244</td>\n",
       "      <td>-1.994454</td>\n",
       "      <td>0.753390</td>\n",
       "      <td>...</td>\n",
       "      <td>0.789653</td>\n",
       "      <td>-0.248334</td>\n",
       "      <td>0.613529</td>\n",
       "      <td>0.378949</td>\n",
       "      <td>-0.449087</td>\n",
       "      <td>-0.773445</td>\n",
       "      <td>-0.420456</td>\n",
       "      <td>-0.237375</td>\n",
       "      <td>-0.027646</td>\n",
       "      <td>-0.729595</td>\n",
       "    </tr>\n",
       "    <tr>\n",
       "      <th>4</th>\n",
       "      <td>0</td>\n",
       "      <td>35</td>\n",
       "      <td>-0.41</td>\n",
       "      <td>-0.86</td>\n",
       "      <td>-1.02</td>\n",
       "      <td>-0.18</td>\n",
       "      <td>0.30</td>\n",
       "      <td>0.387822</td>\n",
       "      <td>-0.664859</td>\n",
       "      <td>0.816163</td>\n",
       "      <td>...</td>\n",
       "      <td>-0.255670</td>\n",
       "      <td>0.300201</td>\n",
       "      <td>0.129738</td>\n",
       "      <td>0.119602</td>\n",
       "      <td>-0.138349</td>\n",
       "      <td>0.100356</td>\n",
       "      <td>-0.036676</td>\n",
       "      <td>-0.004481</td>\n",
       "      <td>0.133341</td>\n",
       "      <td>0.278207</td>\n",
       "    </tr>\n",
       "    <tr>\n",
       "      <th>...</th>\n",
       "      <td>...</td>\n",
       "      <td>...</td>\n",
       "      <td>...</td>\n",
       "      <td>...</td>\n",
       "      <td>...</td>\n",
       "      <td>...</td>\n",
       "      <td>...</td>\n",
       "      <td>...</td>\n",
       "      <td>...</td>\n",
       "      <td>...</td>\n",
       "      <td>...</td>\n",
       "      <td>...</td>\n",
       "      <td>...</td>\n",
       "      <td>...</td>\n",
       "      <td>...</td>\n",
       "      <td>...</td>\n",
       "      <td>...</td>\n",
       "      <td>...</td>\n",
       "      <td>...</td>\n",
       "      <td>...</td>\n",
       "      <td>...</td>\n",
       "    </tr>\n",
       "    <tr>\n",
       "      <th>19737</th>\n",
       "      <td>1</td>\n",
       "      <td>23</td>\n",
       "      <td>-0.31</td>\n",
       "      <td>-1.97</td>\n",
       "      <td>-1.21</td>\n",
       "      <td>-1.09</td>\n",
       "      <td>1.79</td>\n",
       "      <td>2.009041</td>\n",
       "      <td>-1.722350</td>\n",
       "      <td>-1.511812</td>\n",
       "      <td>...</td>\n",
       "      <td>0.231533</td>\n",
       "      <td>-0.412382</td>\n",
       "      <td>0.677956</td>\n",
       "      <td>0.212807</td>\n",
       "      <td>-0.553049</td>\n",
       "      <td>0.214805</td>\n",
       "      <td>-0.349175</td>\n",
       "      <td>-0.360545</td>\n",
       "      <td>0.261651</td>\n",
       "      <td>-0.438740</td>\n",
       "    </tr>\n",
       "    <tr>\n",
       "      <th>19738</th>\n",
       "      <td>1</td>\n",
       "      <td>26</td>\n",
       "      <td>1.26</td>\n",
       "      <td>0.17</td>\n",
       "      <td>1.11</td>\n",
       "      <td>0.12</td>\n",
       "      <td>0.18</td>\n",
       "      <td>5.007482</td>\n",
       "      <td>-7.439148</td>\n",
       "      <td>7.282037</td>\n",
       "      <td>...</td>\n",
       "      <td>1.006846</td>\n",
       "      <td>1.236978</td>\n",
       "      <td>-2.173863</td>\n",
       "      <td>2.181111</td>\n",
       "      <td>-0.631921</td>\n",
       "      <td>0.207862</td>\n",
       "      <td>0.497802</td>\n",
       "      <td>-0.142507</td>\n",
       "      <td>0.656912</td>\n",
       "      <td>0.001547</td>\n",
       "    </tr>\n",
       "    <tr>\n",
       "      <th>19739</th>\n",
       "      <td>1</td>\n",
       "      <td>20</td>\n",
       "      <td>-0.04</td>\n",
       "      <td>0.69</td>\n",
       "      <td>0.17</td>\n",
       "      <td>0.82</td>\n",
       "      <td>0.80</td>\n",
       "      <td>1.006331</td>\n",
       "      <td>-1.166541</td>\n",
       "      <td>-0.449694</td>\n",
       "      <td>...</td>\n",
       "      <td>0.791618</td>\n",
       "      <td>-0.041324</td>\n",
       "      <td>-0.109731</td>\n",
       "      <td>-0.187362</td>\n",
       "      <td>-0.042231</td>\n",
       "      <td>0.250531</td>\n",
       "      <td>0.312826</td>\n",
       "      <td>-0.116730</td>\n",
       "      <td>0.116504</td>\n",
       "      <td>-0.331054</td>\n",
       "    </tr>\n",
       "    <tr>\n",
       "      <th>19740</th>\n",
       "      <td>1</td>\n",
       "      <td>35</td>\n",
       "      <td>1.63</td>\n",
       "      <td>-0.72</td>\n",
       "      <td>1.86</td>\n",
       "      <td>1.41</td>\n",
       "      <td>-1.01</td>\n",
       "      <td>0.933533</td>\n",
       "      <td>-1.535354</td>\n",
       "      <td>1.325101</td>\n",
       "      <td>...</td>\n",
       "      <td>-0.247148</td>\n",
       "      <td>-0.051479</td>\n",
       "      <td>-0.183399</td>\n",
       "      <td>0.234328</td>\n",
       "      <td>0.168296</td>\n",
       "      <td>0.434699</td>\n",
       "      <td>0.331103</td>\n",
       "      <td>-0.202796</td>\n",
       "      <td>0.002396</td>\n",
       "      <td>0.008595</td>\n",
       "    </tr>\n",
       "    <tr>\n",
       "      <th>19741</th>\n",
       "      <td>0</td>\n",
       "      <td>26</td>\n",
       "      <td>0.24</td>\n",
       "      <td>0.17</td>\n",
       "      <td>0.73</td>\n",
       "      <td>-0.34</td>\n",
       "      <td>-0.32</td>\n",
       "      <td>3.583839</td>\n",
       "      <td>-5.162691</td>\n",
       "      <td>3.371545</td>\n",
       "      <td>...</td>\n",
       "      <td>-0.551184</td>\n",
       "      <td>0.391855</td>\n",
       "      <td>-0.570547</td>\n",
       "      <td>1.361043</td>\n",
       "      <td>-0.871633</td>\n",
       "      <td>1.304406</td>\n",
       "      <td>0.546694</td>\n",
       "      <td>-0.041616</td>\n",
       "      <td>0.457560</td>\n",
       "      <td>0.318388</td>\n",
       "    </tr>\n",
       "  </tbody>\n",
       "</table>\n",
       "<p>19742 rows × 57 columns</p>\n",
       "</div>"
      ],
      "text/plain": [
       "       gender  age   ope   con   ext   agr   neu         0         1  \\\n",
       "0           0   47 -0.31 -0.57 -0.89  0.41  1.17  0.242033 -0.407787   \n",
       "1           0   35  0.61 -0.12 -0.64 -1.01 -1.50  0.430053 -0.701633   \n",
       "2           1   29 -0.31 -0.94 -0.77 -1.76  1.05  0.720854 -1.007212   \n",
       "3           1   28 -0.68  0.54 -0.52 -1.01 -0.51  1.285244 -1.994454   \n",
       "4           0   35 -0.41 -0.86 -1.02 -0.18  0.30  0.387822 -0.664859   \n",
       "...       ...  ...   ...   ...   ...   ...   ...       ...       ...   \n",
       "19737       1   23 -0.31 -1.97 -1.21 -1.09  1.79  2.009041 -1.722350   \n",
       "19738       1   26  1.26  0.17  1.11  0.12  0.18  5.007482 -7.439148   \n",
       "19739       1   20 -0.04  0.69  0.17  0.82  0.80  1.006331 -1.166541   \n",
       "19740       1   35  1.63 -0.72  1.86  1.41 -1.01  0.933533 -1.535354   \n",
       "19741       0   26  0.24  0.17  0.73 -0.34 -0.32  3.583839 -5.162691   \n",
       "\n",
       "              2  ...        40        41        42        43        44  \\\n",
       "0      0.461242  ... -0.166992  0.086621  0.452880 -0.251522  0.112301   \n",
       "1      0.507358  ... -0.166240 -0.126951  0.206703 -0.675187 -0.208379   \n",
       "2      0.147107  ...  0.105962 -0.053665  0.308653  0.094177  0.132226   \n",
       "3      0.753390  ...  0.789653 -0.248334  0.613529  0.378949 -0.449087   \n",
       "4      0.816163  ... -0.255670  0.300201  0.129738  0.119602 -0.138349   \n",
       "...         ...  ...       ...       ...       ...       ...       ...   \n",
       "19737 -1.511812  ...  0.231533 -0.412382  0.677956  0.212807 -0.553049   \n",
       "19738  7.282037  ...  1.006846  1.236978 -2.173863  2.181111 -0.631921   \n",
       "19739 -0.449694  ...  0.791618 -0.041324 -0.109731 -0.187362 -0.042231   \n",
       "19740  1.325101  ... -0.247148 -0.051479 -0.183399  0.234328  0.168296   \n",
       "19741  3.371545  ... -0.551184  0.391855 -0.570547  1.361043 -0.871633   \n",
       "\n",
       "             45        46        47        48        49  \n",
       "0     -0.134991 -0.022330  0.067848  0.028435 -0.188740  \n",
       "1     -0.279976 -0.483428 -0.049299  0.315360  0.122851  \n",
       "2     -0.520239 -0.247787  0.174664  0.228318  0.093811  \n",
       "3     -0.773445 -0.420456 -0.237375 -0.027646 -0.729595  \n",
       "4      0.100356 -0.036676 -0.004481  0.133341  0.278207  \n",
       "...         ...       ...       ...       ...       ...  \n",
       "19737  0.214805 -0.349175 -0.360545  0.261651 -0.438740  \n",
       "19738  0.207862  0.497802 -0.142507  0.656912  0.001547  \n",
       "19739  0.250531  0.312826 -0.116730  0.116504 -0.331054  \n",
       "19740  0.434699  0.331103 -0.202796  0.002396  0.008595  \n",
       "19741  1.304406  0.546694 -0.041616  0.457560  0.318388  \n",
       "\n",
       "[19742 rows x 57 columns]"
      ]
     },
     "execution_count": 11,
     "metadata": {},
     "output_type": "execute_result"
    }
   ],
   "source": [
    "merged_svd_50"
   ]
  },
  {
   "cell_type": "markdown",
   "metadata": {},
   "source": [
    "Getting predictions:"
   ]
  },
  {
   "cell_type": "code",
   "execution_count": 12,
   "metadata": {},
   "outputs": [],
   "source": [
    "merged_svd_50_results = {}\n",
    "merged_svd_50_results['name'] = 'merged_svd_50_results'"
   ]
  },
  {
   "cell_type": "code",
   "execution_count": 13,
   "metadata": {},
   "outputs": [],
   "source": [
    "logreg_targets = ['gender']\n",
    "linreg_targets = ['age', 'ope', 'con', 'ext', 'agr', 'neu']"
   ]
  },
  {
   "cell_type": "markdown",
   "metadata": {},
   "source": [
    "I want to score linear regression models on Pearson product-moment correlation (like the Authors did):"
   ]
  },
  {
   "cell_type": "code",
   "execution_count": 14,
   "metadata": {},
   "outputs": [],
   "source": [
    "def pearson_cor(y_true, y_pred, **kwargs):\n",
    "    return pearsonr(y_true, y_pred)[0]\n",
    "\n",
    "pearson_scorer = make_scorer(pearson_cor)"
   ]
  },
  {
   "cell_type": "code",
   "execution_count": 15,
   "metadata": {},
   "outputs": [],
   "source": [
    "for target in linreg_targets:\n",
    "    y = users[target]\n",
    "    \n",
    "    # In each loop X must be created anew:\n",
    "    loop_merged = pd.concat([users, merged_svd_50], axis=1)\n",
    "    loop_merged.columns = loop_merged.columns.astype(str)\n",
    "    loop_merged = loop_merged.drop(target, axis='columns')\n",
    "\n",
    "    X_train, X_test, y_train, y_test = train_test_split(\n",
    "        loop_merged, y, test_size=0.1, random_state=42)\n",
    "\n",
    "    model = LinearRegression(n_jobs=-1)\n",
    "    model.fit(X_train, y_train)\n",
    "\n",
    "    merged_svd_50_results[target] = round(cross_val_score(\n",
    "        model, loop_merged, y, scoring=pearson_scorer, cv=10, n_jobs=-1).mean(), 2)"
   ]
  },
  {
   "cell_type": "code",
   "execution_count": 16,
   "metadata": {},
   "outputs": [
    {
     "data": {
      "text/plain": [
       "{'name': 'merged_svd_50_results',\n",
       " 'age': 0.59,\n",
       " 'ope': 0.51,\n",
       " 'con': 0.45,\n",
       " 'ext': 0.56,\n",
       " 'agr': 0.5,\n",
       " 'neu': 0.64}"
      ]
     },
     "execution_count": 16,
     "metadata": {},
     "output_type": "execute_result"
    }
   ],
   "source": [
    "merged_svd_50_results"
   ]
  },
  {
   "cell_type": "code",
   "execution_count": 17,
   "metadata": {
    "scrolled": true
   },
   "outputs": [
    {
     "data": {
      "image/png": "[encoded data removed]",
      "text/plain": [
       "<Figure size 640x480 with 1 Axes>"
      ]
     },
     "metadata": {},
     "output_type": "display_data"
    }
   ],
   "source": [
    "# Even though there's only one target in logreg_targets, I'm leaving this as\n",
    "# a loop so that I can add e.g. 'political' in here in the future.\n",
    "\n",
    "for target in logreg_targets:\n",
    "    y = users[target]\n",
    "    \n",
    "    # In each loop X must be created anew:\n",
    "    loop_merged = pd.concat([users, merged_svd_50], axis=1)\n",
    "    loop_merged.columns = loop_merged.columns.astype(str)\n",
    "    loop_merged = loop_merged.drop(target, axis='columns')\n",
    "\n",
    "    X_train, X_test, y_train, y_test = train_test_split(\n",
    "        loop_merged, y, test_size=0.1, random_state=42)\n",
    "\n",
    "    model = LogisticRegression(random_state=42, n_jobs=-1)\n",
    "    model.fit(X_train, y_train)\n",
    "\n",
    "    merged_svd_50_results[target] = round(cross_val_score(\n",
    "        model, loop_merged, y, scoring='roc_auc', cv=10, n_jobs=-1).mean(), 2)\n",
    "\n",
    "    y_pred_proba = model.predict_proba(X_test)[:, 1]\n",
    "    plot_roc_curve(y_test, y_pred_proba)"
   ]
  },
  {
   "cell_type": "code",
   "execution_count": 18,
   "metadata": {
    "scrolled": true
   },
   "outputs": [
    {
     "data": {
      "text/plain": [
       "{'name': 'merged_svd_50_results',\n",
       " 'age': 0.59,\n",
       " 'ope': 0.51,\n",
       " 'con': 0.45,\n",
       " 'ext': 0.56,\n",
       " 'agr': 0.5,\n",
       " 'neu': 0.64,\n",
       " 'gender': 0.94}"
      ]
     },
     "execution_count": 18,
     "metadata": {},
     "output_type": "execute_result"
    }
   ],
   "source": [
    "merged_svd_50_results"
   ]
  },
  {
   "cell_type": "markdown",
   "metadata": {},
   "source": [
    "We can see significant improvement on Big Five scores after enhancing our reduced User-Like matrix with additional features."
   ]
  },
  {
   "cell_type": "markdown",
   "metadata": {},
   "source": [
    "### Impact of additional features"
   ]
  },
  {
   "cell_type": "markdown",
   "metadata": {},
   "source": [
    "At this point I'm wondering how much of this result is due to using just Big5, age and gender features. So I'll test the predictions only on those features without User-Like data. "
   ]
  },
  {
   "cell_type": "code",
   "execution_count": 19,
   "metadata": {},
   "outputs": [],
   "source": [
    "psychogr_test = {}\n",
    "psychogr_test['name'] = 'psychographic_data_only'"
   ]
  },
  {
   "cell_type": "code",
   "execution_count": 20,
   "metadata": {},
   "outputs": [],
   "source": [
    "for target in linreg_targets:\n",
    "    y = users[target]\n",
    "    \n",
    "    # In each loop X must be created anew:\n",
    "    X = users.drop(target, axis='columns')\n",
    "\n",
    "    X_train, X_test, y_train, y_test = train_test_split(\n",
    "        X, y, test_size=0.1, random_state=42)\n",
    "\n",
    "    model = LinearRegression(n_jobs=-1)\n",
    "    model.fit(X_train, y_train)\n",
    "\n",
    "    psychogr_test[target] = round(cross_val_score(\n",
    "        model, X, y, scoring=pearson_scorer, cv=10, n_jobs=-1).mean(), 2)"
   ]
  },
  {
   "cell_type": "code",
   "execution_count": 21,
   "metadata": {},
   "outputs": [
    {
     "data": {
      "image/png": "[encoded data removed]",
      "text/plain": [
       "<Figure size 640x480 with 1 Axes>"
      ]
     },
     "metadata": {},
     "output_type": "display_data"
    }
   ],
   "source": [
    "for target in logreg_targets:\n",
    "    y = users[target]\n",
    "    \n",
    "    # In each loop X must be created anew:\n",
    "    X = users.drop(target, axis='columns')\n",
    "\n",
    "    X_train, X_test, y_train, y_test = train_test_split(\n",
    "        X, y, test_size=0.1, random_state=42)\n",
    "\n",
    "    model = LogisticRegression(random_state=42, n_jobs=-1)\n",
    "    model.fit(X_train, y_train)\n",
    "\n",
    "    psychogr_test[target] = round(cross_val_score(\n",
    "        model, X, y, scoring='roc_auc', cv=10, n_jobs=-1).mean(), 2)\n",
    "\n",
    "    y_pred_proba = model.predict_proba(X_test)[:, 1]\n",
    "    plot_roc_curve(y_test, y_pred_proba)"
   ]
  },
  {
   "cell_type": "code",
   "execution_count": 22,
   "metadata": {},
   "outputs": [
    {
     "data": {
      "text/plain": [
       "{'name': 'psychographic_data_only',\n",
       " 'age': 0.14,\n",
       " 'ope': 0.24,\n",
       " 'con': 0.42,\n",
       " 'ext': 0.49,\n",
       " 'agr': 0.46,\n",
       " 'neu': 0.63,\n",
       " 'gender': 0.67}"
      ]
     },
     "execution_count": 22,
     "metadata": {},
     "output_type": "execute_result"
    }
   ],
   "source": [
    "psychogr_test"
   ]
  },
  {
   "cell_type": "markdown",
   "metadata": {},
   "source": [
    "Conclusion - without user-like data scikit-learn default estimators return slightly worse results in case of four of the Big Five features and significantly worse results in case of age, gender and Openness."
   ]
  },
  {
   "cell_type": "markdown",
   "metadata": {},
   "source": [
    "## SVD <i>k</i> = 300"
   ]
  },
  {
   "cell_type": "markdown",
   "metadata": {},
   "source": [
    "Data preparation:"
   ]
  },
  {
   "cell_type": "code",
   "execution_count": 23,
   "metadata": {},
   "outputs": [],
   "source": [
    "svd_300 = TruncatedSVD(n_components=300, random_state=42)"
   ]
  },
  {
   "cell_type": "code",
   "execution_count": 24,
   "metadata": {},
   "outputs": [
    {
     "data": {
      "text/html": [
       "<style>#sk-container-id-2 {color: black;background-color: white;}#sk-container-id-2 pre{padding: 0;}#sk-container-id-2 div.sk-toggleable {background-color: white;}#sk-container-id-2 label.sk-toggleable__label {cursor: pointer;display: block;width: 100%;margin-bottom: 0;padding: 0.3em;box-sizing: border-box;text-align: center;}#sk-container-id-2 label.sk-toggleable__label-arrow:before {content: \"▸\";float: left;margin-right: 0.25em;color: #696969;}#sk-container-id-2 label.sk-toggleable__label-arrow:hover:before {color: black;}#sk-container-id-2 div.sk-estimator:hover label.sk-toggleable__label-arrow:before {color: black;}#sk-container-id-2 div.sk-toggleable__content {max-height: 0;max-width: 0;overflow: hidden;text-align: left;background-color: #f0f8ff;}#sk-container-id-2 div.sk-toggleable__content pre {margin: 0.2em;color: black;border-radius: 0.25em;background-color: #f0f8ff;}#sk-container-id-2 input.sk-toggleable__control:checked~div.sk-toggleable__content {max-height: 200px;max-width: 100%;overflow: auto;}#sk-container-id-2 input.sk-toggleable__control:checked~label.sk-toggleable__label-arrow:before {content: \"▾\";}#sk-container-id-2 div.sk-estimator input.sk-toggleable__control:checked~label.sk-toggleable__label {background-color: #d4ebff;}#sk-container-id-2 div.sk-label input.sk-toggleable__control:checked~label.sk-toggleable__label {background-color: #d4ebff;}#sk-container-id-2 input.sk-hidden--visually {border: 0;clip: rect(1px 1px 1px 1px);clip: rect(1px, 1px, 1px, 1px);height: 1px;margin: -1px;overflow: hidden;padding: 0;position: absolute;width: 1px;}#sk-container-id-2 div.sk-estimator {font-family: monospace;background-color: #f0f8ff;border: 1px dotted black;border-radius: 0.25em;box-sizing: border-box;margin-bottom: 0.5em;}#sk-container-id-2 div.sk-estimator:hover {background-color: #d4ebff;}#sk-container-id-2 div.sk-parallel-item::after {content: \"\";width: 100%;border-bottom: 1px solid gray;flex-grow: 1;}#sk-container-id-2 div.sk-label:hover label.sk-toggleable__label {background-color: #d4ebff;}#sk-container-id-2 div.sk-serial::before {content: \"\";position: absolute;border-left: 1px solid gray;box-sizing: border-box;top: 0;bottom: 0;left: 50%;z-index: 0;}#sk-container-id-2 div.sk-serial {display: flex;flex-direction: column;align-items: center;background-color: white;padding-right: 0.2em;padding-left: 0.2em;position: relative;}#sk-container-id-2 div.sk-item {position: relative;z-index: 1;}#sk-container-id-2 div.sk-parallel {display: flex;align-items: stretch;justify-content: center;background-color: white;position: relative;}#sk-container-id-2 div.sk-item::before, #sk-container-id-2 div.sk-parallel-item::before {content: \"\";position: absolute;border-left: 1px solid gray;box-sizing: border-box;top: 0;bottom: 0;left: 50%;z-index: -1;}#sk-container-id-2 div.sk-parallel-item {display: flex;flex-direction: column;z-index: 1;position: relative;background-color: white;}#sk-container-id-2 div.sk-parallel-item:first-child::after {align-self: flex-end;width: 50%;}#sk-container-id-2 div.sk-parallel-item:last-child::after {align-self: flex-start;width: 50%;}#sk-container-id-2 div.sk-parallel-item:only-child::after {width: 0;}#sk-container-id-2 div.sk-dashed-wrapped {border: 1px dashed gray;margin: 0 0.4em 0.5em 0.4em;box-sizing: border-box;padding-bottom: 0.4em;background-color: white;}#sk-container-id-2 div.sk-label label {font-family: monospace;font-weight: bold;display: inline-block;line-height: 1.2em;}#sk-container-id-2 div.sk-label-container {text-align: center;}#sk-container-id-2 div.sk-container {/* jupyter's `normalize.less` sets `[hidden] { display: none; }` but bootstrap.min.css set `[hidden] { display: none !important; }` so we also need the `!important` here to be able to override the default hidden behavior on the sphinx rendered scikit-learn.org. See: https://github.com/scikit-learn/scikit-learn/issues/21755 */display: inline-block !important;position: relative;}#sk-container-id-2 div.sk-text-repr-fallback {display: none;}</style><div id=\"sk-container-id-2\" class=\"sk-top-container\"><div class=\"sk-text-repr-fallback\"><pre>TruncatedSVD(n_components=300, random_state=42)</pre><b>In a Jupyter environment, please rerun this cell to show the HTML representation or trust the notebook. <br />On GitHub, the HTML representation is unable to render, please try loading this page with nbviewer.org.</b></div><div class=\"sk-container\" hidden><div class=\"sk-item\"><div class=\"sk-estimator sk-toggleable\"><input class=\"sk-toggleable__control sk-hidden--visually\" id=\"sk-estimator-id-2\" type=\"checkbox\" checked><label for=\"sk-estimator-id-2\" class=\"sk-toggleable__label sk-toggleable__label-arrow\">TruncatedSVD</label><div class=\"sk-toggleable__content\"><pre>TruncatedSVD(n_components=300, random_state=42)</pre></div></div></div></div></div>"
      ],
      "text/plain": [
       "TruncatedSVD(n_components=300, random_state=42)"
      ]
     },
     "execution_count": 24,
     "metadata": {},
     "output_type": "execute_result"
    }
   ],
   "source": [
    "svd_300.fit(df)"
   ]
  },
  {
   "cell_type": "code",
   "execution_count": 25,
   "metadata": {},
   "outputs": [],
   "source": [
    "X_svd_300 = svd_300.transform(df)"
   ]
  },
  {
   "cell_type": "code",
   "execution_count": 26,
   "metadata": {},
   "outputs": [],
   "source": [
    "X_svd_300 = pd.DataFrame(X_svd_300)"
   ]
  },
  {
   "cell_type": "code",
   "execution_count": 27,
   "metadata": {},
   "outputs": [],
   "source": [
    "merged_svd_300 = pd.concat([users, X_svd_300], axis=1)"
   ]
  },
  {
   "cell_type": "markdown",
   "metadata": {},
   "source": [
    "Getting predictions:"
   ]
  },
  {
   "cell_type": "code",
   "execution_count": 28,
   "metadata": {},
   "outputs": [],
   "source": [
    "merged_svd_300_results = {}\n",
    "merged_svd_300_results['name'] = 'merged_svd_300_results'"
   ]
  },
  {
   "cell_type": "code",
   "execution_count": 29,
   "metadata": {},
   "outputs": [],
   "source": [
    "for target in linreg_targets:\n",
    "    y = users[target]\n",
    "    \n",
    "    # In each loop X must be created anew:\n",
    "    loop_merged = pd.concat([users, merged_svd_300], axis=1)\n",
    "    loop_merged.columns = loop_merged.columns.astype(str)\n",
    "    loop_merged = loop_merged.drop(target, axis='columns')\n",
    "\n",
    "    X_train, X_test, y_train, y_test = train_test_split(\n",
    "        loop_merged, y, test_size=0.1, random_state=42)\n",
    "\n",
    "    model = LinearRegression(n_jobs=-1)\n",
    "    model.fit(X_train, y_train)\n",
    "\n",
    "    merged_svd_300_results[target] = round(cross_val_score(\n",
    "        model, loop_merged, y, scoring=pearson_scorer, cv=10, n_jobs=-1).mean(), 2)"
   ]
  },
  {
   "cell_type": "code",
   "execution_count": 30,
   "metadata": {},
   "outputs": [
    {
     "data": {
      "image/png": "[encoded data removed]",
      "text/plain": [
       "<Figure size 640x480 with 1 Axes>"
      ]
     },
     "metadata": {},
     "output_type": "display_data"
    }
   ],
   "source": [
    "for target in logreg_targets:\n",
    "    y = users[target]\n",
    "    \n",
    "    # In each loop X must be created anew:\n",
    "    loop_merged = pd.concat([users, merged_svd_300], axis=1)\n",
    "    loop_merged.columns = loop_merged.columns.astype(str)\n",
    "    loop_merged = loop_merged.drop(target, axis='columns')\n",
    "\n",
    "    X_train, X_test, y_train, y_test = train_test_split(\n",
    "        loop_merged, y, test_size=0.1, random_state=42)\n",
    "\n",
    "    model = LogisticRegression(random_state=42, n_jobs=-1)\n",
    "    model.fit(X_train, y_train)\n",
    "\n",
    "    merged_svd_300_results[target] = round(cross_val_score(\n",
    "        model, loop_merged, y, scoring='roc_auc', cv=10, n_jobs=-1).mean(), 2)\n",
    "\n",
    "    y_pred_proba = model.predict_proba(X_test)[:, 1]\n",
    "    plot_roc_curve(y_test, y_pred_proba)"
   ]
  },
  {
   "cell_type": "code",
   "execution_count": 31,
   "metadata": {},
   "outputs": [
    {
     "data": {
      "text/plain": [
       "{'name': 'merged_svd_50_results',\n",
       " 'age': 0.59,\n",
       " 'ope': 0.51,\n",
       " 'con': 0.45,\n",
       " 'ext': 0.56,\n",
       " 'agr': 0.5,\n",
       " 'neu': 0.64,\n",
       " 'gender': 0.94}"
      ]
     },
     "execution_count": 31,
     "metadata": {},
     "output_type": "execute_result"
    }
   ],
   "source": [
    "merged_svd_50_results"
   ]
  },
  {
   "cell_type": "code",
   "execution_count": 32,
   "metadata": {},
   "outputs": [
    {
     "data": {
      "text/plain": [
       "{'name': 'merged_svd_300_results',\n",
       " 'age': 0.64,\n",
       " 'ope': 0.53,\n",
       " 'con': 0.45,\n",
       " 'ext': 0.57,\n",
       " 'agr': 0.51,\n",
       " 'neu': 0.64,\n",
       " 'gender': 0.96}"
      ]
     },
     "execution_count": 32,
     "metadata": {},
     "output_type": "execute_result"
    }
   ],
   "source": [
    "merged_svd_300_results"
   ]
  },
  {
   "cell_type": "markdown",
   "metadata": {},
   "source": [
    "Improvement of 2% on gender (AUC), 5% on age (cor) when goin from 50 to 300 SVD dimensions."
   ]
  },
  {
   "cell_type": "markdown",
   "metadata": {},
   "source": [
    "## LDA <i>k</i> = 150"
   ]
  },
  {
   "cell_type": "markdown",
   "metadata": {},
   "source": [
    "Data preparation:"
   ]
  },
  {
   "cell_type": "code",
   "execution_count": 33,
   "metadata": {},
   "outputs": [],
   "source": [
    "lda_150 = LatentDirichletAllocation(n_components=150, random_state=42)"
   ]
  },
  {
   "cell_type": "code",
   "execution_count": 34,
   "metadata": {},
   "outputs": [
    {
     "data": {
      "text/html": [
       "<style>#sk-container-id-3 {color: black;background-color: white;}#sk-container-id-3 pre{padding: 0;}#sk-container-id-3 div.sk-toggleable {background-color: white;}#sk-container-id-3 label.sk-toggleable__label {cursor: pointer;display: block;width: 100%;margin-bottom: 0;padding: 0.3em;box-sizing: border-box;text-align: center;}#sk-container-id-3 label.sk-toggleable__label-arrow:before {content: \"▸\";float: left;margin-right: 0.25em;color: #696969;}#sk-container-id-3 label.sk-toggleable__label-arrow:hover:before {color: black;}#sk-container-id-3 div.sk-estimator:hover label.sk-toggleable__label-arrow:before {color: black;}#sk-container-id-3 div.sk-toggleable__content {max-height: 0;max-width: 0;overflow: hidden;text-align: left;background-color: #f0f8ff;}#sk-container-id-3 div.sk-toggleable__content pre {margin: 0.2em;color: black;border-radius: 0.25em;background-color: #f0f8ff;}#sk-container-id-3 input.sk-toggleable__control:checked~div.sk-toggleable__content {max-height: 200px;max-width: 100%;overflow: auto;}#sk-container-id-3 input.sk-toggleable__control:checked~label.sk-toggleable__label-arrow:before {content: \"▾\";}#sk-container-id-3 div.sk-estimator input.sk-toggleable__control:checked~label.sk-toggleable__label {background-color: #d4ebff;}#sk-container-id-3 div.sk-label input.sk-toggleable__control:checked~label.sk-toggleable__label {background-color: #d4ebff;}#sk-container-id-3 input.sk-hidden--visually {border: 0;clip: rect(1px 1px 1px 1px);clip: rect(1px, 1px, 1px, 1px);height: 1px;margin: -1px;overflow: hidden;padding: 0;position: absolute;width: 1px;}#sk-container-id-3 div.sk-estimator {font-family: monospace;background-color: #f0f8ff;border: 1px dotted black;border-radius: 0.25em;box-sizing: border-box;margin-bottom: 0.5em;}#sk-container-id-3 div.sk-estimator:hover {background-color: #d4ebff;}#sk-container-id-3 div.sk-parallel-item::after {content: \"\";width: 100%;border-bottom: 1px solid gray;flex-grow: 1;}#sk-container-id-3 div.sk-label:hover label.sk-toggleable__label {background-color: #d4ebff;}#sk-container-id-3 div.sk-serial::before {content: \"\";position: absolute;border-left: 1px solid gray;box-sizing: border-box;top: 0;bottom: 0;left: 50%;z-index: 0;}#sk-container-id-3 div.sk-serial {display: flex;flex-direction: column;align-items: center;background-color: white;padding-right: 0.2em;padding-left: 0.2em;position: relative;}#sk-container-id-3 div.sk-item {position: relative;z-index: 1;}#sk-container-id-3 div.sk-parallel {display: flex;align-items: stretch;justify-content: center;background-color: white;position: relative;}#sk-container-id-3 div.sk-item::before, #sk-container-id-3 div.sk-parallel-item::before {content: \"\";position: absolute;border-left: 1px solid gray;box-sizing: border-box;top: 0;bottom: 0;left: 50%;z-index: -1;}#sk-container-id-3 div.sk-parallel-item {display: flex;flex-direction: column;z-index: 1;position: relative;background-color: white;}#sk-container-id-3 div.sk-parallel-item:first-child::after {align-self: flex-end;width: 50%;}#sk-container-id-3 div.sk-parallel-item:last-child::after {align-self: flex-start;width: 50%;}#sk-container-id-3 div.sk-parallel-item:only-child::after {width: 0;}#sk-container-id-3 div.sk-dashed-wrapped {border: 1px dashed gray;margin: 0 0.4em 0.5em 0.4em;box-sizing: border-box;padding-bottom: 0.4em;background-color: white;}#sk-container-id-3 div.sk-label label {font-family: monospace;font-weight: bold;display: inline-block;line-height: 1.2em;}#sk-container-id-3 div.sk-label-container {text-align: center;}#sk-container-id-3 div.sk-container {/* jupyter's `normalize.less` sets `[hidden] { display: none; }` but bootstrap.min.css set `[hidden] { display: none !important; }` so we also need the `!important` here to be able to override the default hidden behavior on the sphinx rendered scikit-learn.org. See: https://github.com/scikit-learn/scikit-learn/issues/21755 */display: inline-block !important;position: relative;}#sk-container-id-3 div.sk-text-repr-fallback {display: none;}</style><div id=\"sk-container-id-3\" class=\"sk-top-container\"><div class=\"sk-text-repr-fallback\"><pre>LatentDirichletAllocation(n_components=150, random_state=42)</pre><b>In a Jupyter environment, please rerun this cell to show the HTML representation or trust the notebook. <br />On GitHub, the HTML representation is unable to render, please try loading this page with nbviewer.org.</b></div><div class=\"sk-container\" hidden><div class=\"sk-item\"><div class=\"sk-estimator sk-toggleable\"><input class=\"sk-toggleable__control sk-hidden--visually\" id=\"sk-estimator-id-3\" type=\"checkbox\" checked><label for=\"sk-estimator-id-3\" class=\"sk-toggleable__label sk-toggleable__label-arrow\">LatentDirichletAllocation</label><div class=\"sk-toggleable__content\"><pre>LatentDirichletAllocation(n_components=150, random_state=42)</pre></div></div></div></div></div>"
      ],
      "text/plain": [
       "LatentDirichletAllocation(n_components=150, random_state=42)"
      ]
     },
     "execution_count": 34,
     "metadata": {},
     "output_type": "execute_result"
    }
   ],
   "source": [
    "lda_150.fit(df)  # takes 6min:00s on my PC"
   ]
  },
  {
   "cell_type": "code",
   "execution_count": 35,
   "metadata": {},
   "outputs": [],
   "source": [
    "X_lda_150 = lda_150.transform(df)"
   ]
  },
  {
   "cell_type": "code",
   "execution_count": 36,
   "metadata": {},
   "outputs": [],
   "source": [
    "X_lda_150 = pd.DataFrame(X_lda_150)"
   ]
  },
  {
   "cell_type": "code",
   "execution_count": 37,
   "metadata": {},
   "outputs": [],
   "source": [
    "merged_lda_150 = pd.concat([users, X_lda_150], axis=1)"
   ]
  },
  {
   "cell_type": "code",
   "execution_count": 38,
   "metadata": {},
   "outputs": [
    {
     "data": {
      "text/html": [
       "<div>\n",
       "<style scoped>\n",
       "    .dataframe tbody tr th:only-of-type {\n",
       "        vertical-align: middle;\n",
       "    }\n",
       "\n",
       "    .dataframe tbody tr th {\n",
       "        vertical-align: top;\n",
       "    }\n",
       "\n",
       "    .dataframe thead th {\n",
       "        text-align: right;\n",
       "    }\n",
       "</style>\n",
       "<table border=\"1\" class=\"dataframe\">\n",
       "  <thead>\n",
       "    <tr style=\"text-align: right;\">\n",
       "      <th></th>\n",
       "      <th>gender</th>\n",
       "      <th>age</th>\n",
       "      <th>ope</th>\n",
       "      <th>con</th>\n",
       "      <th>ext</th>\n",
       "      <th>agr</th>\n",
       "      <th>neu</th>\n",
       "      <th>0</th>\n",
       "      <th>1</th>\n",
       "      <th>2</th>\n",
       "      <th>...</th>\n",
       "      <th>140</th>\n",
       "      <th>141</th>\n",
       "      <th>142</th>\n",
       "      <th>143</th>\n",
       "      <th>144</th>\n",
       "      <th>145</th>\n",
       "      <th>146</th>\n",
       "      <th>147</th>\n",
       "      <th>148</th>\n",
       "      <th>149</th>\n",
       "    </tr>\n",
       "  </thead>\n",
       "  <tbody>\n",
       "    <tr>\n",
       "      <th>0</th>\n",
       "      <td>0</td>\n",
       "      <td>47</td>\n",
       "      <td>-0.31</td>\n",
       "      <td>-0.57</td>\n",
       "      <td>-0.89</td>\n",
       "      <td>0.41</td>\n",
       "      <td>1.17</td>\n",
       "      <td>0.000128</td>\n",
       "      <td>0.000128</td>\n",
       "      <td>0.000128</td>\n",
       "      <td>...</td>\n",
       "      <td>0.000128</td>\n",
       "      <td>0.000128</td>\n",
       "      <td>0.000128</td>\n",
       "      <td>0.000128</td>\n",
       "      <td>0.000128</td>\n",
       "      <td>0.000128</td>\n",
       "      <td>0.000128</td>\n",
       "      <td>0.000128</td>\n",
       "      <td>0.000128</td>\n",
       "      <td>0.000128</td>\n",
       "    </tr>\n",
       "    <tr>\n",
       "      <th>1</th>\n",
       "      <td>0</td>\n",
       "      <td>35</td>\n",
       "      <td>0.61</td>\n",
       "      <td>-0.12</td>\n",
       "      <td>-0.64</td>\n",
       "      <td>-1.01</td>\n",
       "      <td>-1.50</td>\n",
       "      <td>0.000126</td>\n",
       "      <td>0.000126</td>\n",
       "      <td>0.000126</td>\n",
       "      <td>...</td>\n",
       "      <td>0.000126</td>\n",
       "      <td>0.000126</td>\n",
       "      <td>0.000126</td>\n",
       "      <td>0.000126</td>\n",
       "      <td>0.000126</td>\n",
       "      <td>0.000126</td>\n",
       "      <td>0.000126</td>\n",
       "      <td>0.000126</td>\n",
       "      <td>0.000126</td>\n",
       "      <td>0.000126</td>\n",
       "    </tr>\n",
       "    <tr>\n",
       "      <th>2</th>\n",
       "      <td>1</td>\n",
       "      <td>29</td>\n",
       "      <td>-0.31</td>\n",
       "      <td>-0.94</td>\n",
       "      <td>-0.77</td>\n",
       "      <td>-1.76</td>\n",
       "      <td>1.05</td>\n",
       "      <td>0.000078</td>\n",
       "      <td>0.000078</td>\n",
       "      <td>0.000078</td>\n",
       "      <td>...</td>\n",
       "      <td>0.000078</td>\n",
       "      <td>0.081683</td>\n",
       "      <td>0.000078</td>\n",
       "      <td>0.000078</td>\n",
       "      <td>0.000078</td>\n",
       "      <td>0.000078</td>\n",
       "      <td>0.084492</td>\n",
       "      <td>0.000078</td>\n",
       "      <td>0.000078</td>\n",
       "      <td>0.000078</td>\n",
       "    </tr>\n",
       "    <tr>\n",
       "      <th>3</th>\n",
       "      <td>1</td>\n",
       "      <td>28</td>\n",
       "      <td>-0.68</td>\n",
       "      <td>0.54</td>\n",
       "      <td>-0.52</td>\n",
       "      <td>-1.01</td>\n",
       "      <td>-0.51</td>\n",
       "      <td>0.000053</td>\n",
       "      <td>0.000053</td>\n",
       "      <td>0.000053</td>\n",
       "      <td>...</td>\n",
       "      <td>0.000053</td>\n",
       "      <td>0.155478</td>\n",
       "      <td>0.000053</td>\n",
       "      <td>0.000053</td>\n",
       "      <td>0.000053</td>\n",
       "      <td>0.000053</td>\n",
       "      <td>0.000053</td>\n",
       "      <td>0.000053</td>\n",
       "      <td>0.000053</td>\n",
       "      <td>0.000053</td>\n",
       "    </tr>\n",
       "    <tr>\n",
       "      <th>4</th>\n",
       "      <td>0</td>\n",
       "      <td>35</td>\n",
       "      <td>-0.41</td>\n",
       "      <td>-0.86</td>\n",
       "      <td>-1.02</td>\n",
       "      <td>-0.18</td>\n",
       "      <td>0.30</td>\n",
       "      <td>0.000128</td>\n",
       "      <td>0.000128</td>\n",
       "      <td>0.000128</td>\n",
       "      <td>...</td>\n",
       "      <td>0.000128</td>\n",
       "      <td>0.000128</td>\n",
       "      <td>0.000128</td>\n",
       "      <td>0.000128</td>\n",
       "      <td>0.000128</td>\n",
       "      <td>0.000128</td>\n",
       "      <td>0.000128</td>\n",
       "      <td>0.000128</td>\n",
       "      <td>0.000128</td>\n",
       "      <td>0.000128</td>\n",
       "    </tr>\n",
       "    <tr>\n",
       "      <th>...</th>\n",
       "      <td>...</td>\n",
       "      <td>...</td>\n",
       "      <td>...</td>\n",
       "      <td>...</td>\n",
       "      <td>...</td>\n",
       "      <td>...</td>\n",
       "      <td>...</td>\n",
       "      <td>...</td>\n",
       "      <td>...</td>\n",
       "      <td>...</td>\n",
       "      <td>...</td>\n",
       "      <td>...</td>\n",
       "      <td>...</td>\n",
       "      <td>...</td>\n",
       "      <td>...</td>\n",
       "      <td>...</td>\n",
       "      <td>...</td>\n",
       "      <td>...</td>\n",
       "      <td>...</td>\n",
       "      <td>...</td>\n",
       "      <td>...</td>\n",
       "    </tr>\n",
       "    <tr>\n",
       "      <th>19737</th>\n",
       "      <td>1</td>\n",
       "      <td>23</td>\n",
       "      <td>-0.31</td>\n",
       "      <td>-1.97</td>\n",
       "      <td>-1.21</td>\n",
       "      <td>-1.09</td>\n",
       "      <td>1.79</td>\n",
       "      <td>0.000068</td>\n",
       "      <td>0.000068</td>\n",
       "      <td>0.000068</td>\n",
       "      <td>...</td>\n",
       "      <td>0.000068</td>\n",
       "      <td>0.000068</td>\n",
       "      <td>0.000068</td>\n",
       "      <td>0.000068</td>\n",
       "      <td>0.000068</td>\n",
       "      <td>0.000068</td>\n",
       "      <td>0.000068</td>\n",
       "      <td>0.000068</td>\n",
       "      <td>0.000068</td>\n",
       "      <td>0.000068</td>\n",
       "    </tr>\n",
       "    <tr>\n",
       "      <th>19738</th>\n",
       "      <td>1</td>\n",
       "      <td>26</td>\n",
       "      <td>1.26</td>\n",
       "      <td>0.17</td>\n",
       "      <td>1.11</td>\n",
       "      <td>0.12</td>\n",
       "      <td>0.18</td>\n",
       "      <td>0.000013</td>\n",
       "      <td>0.000013</td>\n",
       "      <td>0.000013</td>\n",
       "      <td>...</td>\n",
       "      <td>0.000013</td>\n",
       "      <td>0.000013</td>\n",
       "      <td>0.000013</td>\n",
       "      <td>0.080966</td>\n",
       "      <td>0.000013</td>\n",
       "      <td>0.000013</td>\n",
       "      <td>0.114835</td>\n",
       "      <td>0.000013</td>\n",
       "      <td>0.000013</td>\n",
       "      <td>0.000013</td>\n",
       "    </tr>\n",
       "    <tr>\n",
       "      <th>19739</th>\n",
       "      <td>1</td>\n",
       "      <td>20</td>\n",
       "      <td>-0.04</td>\n",
       "      <td>0.69</td>\n",
       "      <td>0.17</td>\n",
       "      <td>0.82</td>\n",
       "      <td>0.80</td>\n",
       "      <td>0.000119</td>\n",
       "      <td>0.000119</td>\n",
       "      <td>0.000119</td>\n",
       "      <td>...</td>\n",
       "      <td>0.000119</td>\n",
       "      <td>0.000119</td>\n",
       "      <td>0.000119</td>\n",
       "      <td>0.000119</td>\n",
       "      <td>0.000119</td>\n",
       "      <td>0.000119</td>\n",
       "      <td>0.000119</td>\n",
       "      <td>0.000119</td>\n",
       "      <td>0.000119</td>\n",
       "      <td>0.000119</td>\n",
       "    </tr>\n",
       "    <tr>\n",
       "      <th>19740</th>\n",
       "      <td>1</td>\n",
       "      <td>35</td>\n",
       "      <td>1.63</td>\n",
       "      <td>-0.72</td>\n",
       "      <td>1.86</td>\n",
       "      <td>1.41</td>\n",
       "      <td>-1.01</td>\n",
       "      <td>0.000079</td>\n",
       "      <td>0.000079</td>\n",
       "      <td>0.000079</td>\n",
       "      <td>...</td>\n",
       "      <td>0.137619</td>\n",
       "      <td>0.000079</td>\n",
       "      <td>0.000079</td>\n",
       "      <td>0.000079</td>\n",
       "      <td>0.000079</td>\n",
       "      <td>0.000079</td>\n",
       "      <td>0.000079</td>\n",
       "      <td>0.000079</td>\n",
       "      <td>0.000079</td>\n",
       "      <td>0.000079</td>\n",
       "    </tr>\n",
       "    <tr>\n",
       "      <th>19741</th>\n",
       "      <td>0</td>\n",
       "      <td>26</td>\n",
       "      <td>0.24</td>\n",
       "      <td>0.17</td>\n",
       "      <td>0.73</td>\n",
       "      <td>-0.34</td>\n",
       "      <td>-0.32</td>\n",
       "      <td>0.000023</td>\n",
       "      <td>0.000023</td>\n",
       "      <td>0.000023</td>\n",
       "      <td>...</td>\n",
       "      <td>0.000023</td>\n",
       "      <td>0.000023</td>\n",
       "      <td>0.000023</td>\n",
       "      <td>0.096877</td>\n",
       "      <td>0.000023</td>\n",
       "      <td>0.000023</td>\n",
       "      <td>0.000023</td>\n",
       "      <td>0.000023</td>\n",
       "      <td>0.000023</td>\n",
       "      <td>0.000023</td>\n",
       "    </tr>\n",
       "  </tbody>\n",
       "</table>\n",
       "<p>19742 rows × 157 columns</p>\n",
       "</div>"
      ],
      "text/plain": [
       "       gender  age   ope   con   ext   agr   neu         0         1  \\\n",
       "0           0   47 -0.31 -0.57 -0.89  0.41  1.17  0.000128  0.000128   \n",
       "1           0   35  0.61 -0.12 -0.64 -1.01 -1.50  0.000126  0.000126   \n",
       "2           1   29 -0.31 -0.94 -0.77 -1.76  1.05  0.000078  0.000078   \n",
       "3           1   28 -0.68  0.54 -0.52 -1.01 -0.51  0.000053  0.000053   \n",
       "4           0   35 -0.41 -0.86 -1.02 -0.18  0.30  0.000128  0.000128   \n",
       "...       ...  ...   ...   ...   ...   ...   ...       ...       ...   \n",
       "19737       1   23 -0.31 -1.97 -1.21 -1.09  1.79  0.000068  0.000068   \n",
       "19738       1   26  1.26  0.17  1.11  0.12  0.18  0.000013  0.000013   \n",
       "19739       1   20 -0.04  0.69  0.17  0.82  0.80  0.000119  0.000119   \n",
       "19740       1   35  1.63 -0.72  1.86  1.41 -1.01  0.000079  0.000079   \n",
       "19741       0   26  0.24  0.17  0.73 -0.34 -0.32  0.000023  0.000023   \n",
       "\n",
       "              2  ...       140       141       142       143       144  \\\n",
       "0      0.000128  ...  0.000128  0.000128  0.000128  0.000128  0.000128   \n",
       "1      0.000126  ...  0.000126  0.000126  0.000126  0.000126  0.000126   \n",
       "2      0.000078  ...  0.000078  0.081683  0.000078  0.000078  0.000078   \n",
       "3      0.000053  ...  0.000053  0.155478  0.000053  0.000053  0.000053   \n",
       "4      0.000128  ...  0.000128  0.000128  0.000128  0.000128  0.000128   \n",
       "...         ...  ...       ...       ...       ...       ...       ...   \n",
       "19737  0.000068  ...  0.000068  0.000068  0.000068  0.000068  0.000068   \n",
       "19738  0.000013  ...  0.000013  0.000013  0.000013  0.080966  0.000013   \n",
       "19739  0.000119  ...  0.000119  0.000119  0.000119  0.000119  0.000119   \n",
       "19740  0.000079  ...  0.137619  0.000079  0.000079  0.000079  0.000079   \n",
       "19741  0.000023  ...  0.000023  0.000023  0.000023  0.096877  0.000023   \n",
       "\n",
       "            145       146       147       148       149  \n",
       "0      0.000128  0.000128  0.000128  0.000128  0.000128  \n",
       "1      0.000126  0.000126  0.000126  0.000126  0.000126  \n",
       "2      0.000078  0.084492  0.000078  0.000078  0.000078  \n",
       "3      0.000053  0.000053  0.000053  0.000053  0.000053  \n",
       "4      0.000128  0.000128  0.000128  0.000128  0.000128  \n",
       "...         ...       ...       ...       ...       ...  \n",
       "19737  0.000068  0.000068  0.000068  0.000068  0.000068  \n",
       "19738  0.000013  0.114835  0.000013  0.000013  0.000013  \n",
       "19739  0.000119  0.000119  0.000119  0.000119  0.000119  \n",
       "19740  0.000079  0.000079  0.000079  0.000079  0.000079  \n",
       "19741  0.000023  0.000023  0.000023  0.000023  0.000023  \n",
       "\n",
       "[19742 rows x 157 columns]"
      ]
     },
     "execution_count": 38,
     "metadata": {},
     "output_type": "execute_result"
    }
   ],
   "source": [
    "merged_lda_150"
   ]
  },
  {
   "cell_type": "markdown",
   "metadata": {},
   "source": [
    "Getting predictions:"
   ]
  },
  {
   "cell_type": "code",
   "execution_count": 39,
   "metadata": {},
   "outputs": [],
   "source": [
    "merged_lda_150_results = {}\n",
    "merged_lda_150_results['name'] = 'merged_lda_150_results'"
   ]
  },
  {
   "cell_type": "code",
   "execution_count": 40,
   "metadata": {},
   "outputs": [],
   "source": [
    "for target in linreg_targets:\n",
    "    y = users[target]\n",
    "    \n",
    "    # In each loop X must be created anew:\n",
    "    loop_merged = pd.concat([users, merged_lda_150], axis=1)\n",
    "    loop_merged.columns = loop_merged.columns.astype(str)\n",
    "    loop_merged = loop_merged.drop(target, axis='columns')\n",
    "\n",
    "    X_train, X_test, y_train, y_test = train_test_split(\n",
    "        loop_merged, y, test_size=0.1, random_state=42)\n",
    "\n",
    "    model = LinearRegression(n_jobs=-1)\n",
    "    model.fit(X_train, y_train)\n",
    "\n",
    "    merged_lda_150_results[target] = round(cross_val_score(\n",
    "        model, loop_merged, y, scoring=pearson_scorer, cv=10, n_jobs=-1).mean(), 2)"
   ]
  },
  {
   "cell_type": "code",
   "execution_count": 41,
   "metadata": {},
   "outputs": [
    {
     "data": {
      "image/png": "[encoded data removed]",
      "text/plain": [
       "<Figure size 640x480 with 1 Axes>"
      ]
     },
     "metadata": {},
     "output_type": "display_data"
    }
   ],
   "source": [
    "for target in logreg_targets:\n",
    "    y = users[target]\n",
    "    \n",
    "    # In each loop X must be created anew:\n",
    "    loop_merged = pd.concat([users, merged_lda_150], axis=1)\n",
    "    loop_merged.columns = loop_merged.columns.astype(str)\n",
    "    loop_merged = loop_merged.drop(target, axis='columns')\n",
    "\n",
    "    X_train, X_test, y_train, y_test = train_test_split(\n",
    "        loop_merged, y, test_size=0.1, random_state=42)\n",
    "\n",
    "    model = LogisticRegression(random_state=42, n_jobs=-1)\n",
    "    model.fit(X_train, y_train)\n",
    "\n",
    "    merged_lda_150_results[target] = round(cross_val_score(\n",
    "        model, loop_merged, y, scoring='roc_auc', cv=10, n_jobs=-1).mean(), 2)\n",
    "\n",
    "    y_pred_proba = model.predict_proba(X_test)[:, 1]\n",
    "    plot_roc_curve(y_test, y_pred_proba)"
   ]
  },
  {
   "cell_type": "code",
   "execution_count": 42,
   "metadata": {},
   "outputs": [
    {
     "data": {
      "text/plain": [
       "{'name': 'merged_lda_150_results',\n",
       " 'age': 0.7,\n",
       " 'ope': 0.46,\n",
       " 'con': 0.44,\n",
       " 'ext': 0.55,\n",
       " 'agr': 0.47,\n",
       " 'neu': 0.63,\n",
       " 'gender': 0.87}"
      ]
     },
     "execution_count": 42,
     "metadata": {},
     "output_type": "execute_result"
    }
   ],
   "source": [
    "merged_lda_150_results"
   ]
  },
  {
   "cell_type": "code",
   "execution_count": 43,
   "metadata": {},
   "outputs": [
    {
     "data": {
      "text/html": [
       "<div>\n",
       "<style scoped>\n",
       "    .dataframe tbody tr th:only-of-type {\n",
       "        vertical-align: middle;\n",
       "    }\n",
       "\n",
       "    .dataframe tbody tr th {\n",
       "        vertical-align: top;\n",
       "    }\n",
       "\n",
       "    .dataframe thead th {\n",
       "        text-align: right;\n",
       "    }\n",
       "</style>\n",
       "<table border=\"1\" class=\"dataframe\">\n",
       "  <thead>\n",
       "    <tr style=\"text-align: right;\">\n",
       "      <th></th>\n",
       "      <th>name</th>\n",
       "      <th>age</th>\n",
       "      <th>ope</th>\n",
       "      <th>con</th>\n",
       "      <th>ext</th>\n",
       "      <th>agr</th>\n",
       "      <th>neu</th>\n",
       "      <th>gender</th>\n",
       "    </tr>\n",
       "  </thead>\n",
       "  <tbody>\n",
       "    <tr>\n",
       "      <th>0</th>\n",
       "      <td>merged_lda_150_results</td>\n",
       "      <td>0.7</td>\n",
       "      <td>0.46</td>\n",
       "      <td>0.44</td>\n",
       "      <td>0.55</td>\n",
       "      <td>0.47</td>\n",
       "      <td>0.63</td>\n",
       "      <td>0.87</td>\n",
       "    </tr>\n",
       "  </tbody>\n",
       "</table>\n",
       "</div>"
      ],
      "text/plain": [
       "                     name  age   ope   con   ext   agr   neu  gender\n",
       "0  merged_lda_150_results  0.7  0.46  0.44  0.55  0.47  0.63    0.87"
      ]
     },
     "execution_count": 43,
     "metadata": {},
     "output_type": "execute_result"
    }
   ],
   "source": [
    "pd.DataFrame(merged_lda_150_results, index=[0])"
   ]
  },
  {
   "cell_type": "markdown",
   "metadata": {},
   "source": [
    "### Merging all results for analysis:"
   ]
  },
  {
   "cell_type": "code",
   "execution_count": 44,
   "metadata": {},
   "outputs": [],
   "source": [
    "merged_data_results = pd.DataFrame()"
   ]
  },
  {
   "cell_type": "code",
   "execution_count": 45,
   "metadata": {},
   "outputs": [
    {
     "name": "stderr",
     "output_type": "stream",
     "text": [
      "C:\\Users\\lubec\\AppData\\Local\\Temp\\ipykernel_33652\\1244655093.py:1: FutureWarning: The frame.append method is deprecated and will be removed from pandas in a future version. Use pandas.concat instead.\n",
      "  merged_data_results = merged_data_results.append(\n"
     ]
    }
   ],
   "source": [
    "merged_data_results = merged_data_results.append(\n",
    "    [psychogr_test,\n",
    "     merged_svd_50_results,\n",
    "     merged_svd_300_results,\n",
    "     merged_lda_150_results],\n",
    "    ignore_index=True\n",
    ")"
   ]
  },
  {
   "cell_type": "code",
   "execution_count": 46,
   "metadata": {},
   "outputs": [
    {
     "data": {
      "text/html": [
       "<div>\n",
       "<style scoped>\n",
       "    .dataframe tbody tr th:only-of-type {\n",
       "        vertical-align: middle;\n",
       "    }\n",
       "\n",
       "    .dataframe tbody tr th {\n",
       "        vertical-align: top;\n",
       "    }\n",
       "\n",
       "    .dataframe thead th {\n",
       "        text-align: right;\n",
       "    }\n",
       "</style>\n",
       "<table border=\"1\" class=\"dataframe\">\n",
       "  <thead>\n",
       "    <tr style=\"text-align: right;\">\n",
       "      <th></th>\n",
       "      <th>name</th>\n",
       "      <th>age</th>\n",
       "      <th>ope</th>\n",
       "      <th>con</th>\n",
       "      <th>ext</th>\n",
       "      <th>agr</th>\n",
       "      <th>neu</th>\n",
       "      <th>gender</th>\n",
       "    </tr>\n",
       "  </thead>\n",
       "  <tbody>\n",
       "    <tr>\n",
       "      <th>0</th>\n",
       "      <td>psychographic_data_only</td>\n",
       "      <td>0.14</td>\n",
       "      <td>0.24</td>\n",
       "      <td>0.42</td>\n",
       "      <td>0.49</td>\n",
       "      <td>0.46</td>\n",
       "      <td>0.63</td>\n",
       "      <td>0.67</td>\n",
       "    </tr>\n",
       "    <tr>\n",
       "      <th>1</th>\n",
       "      <td>merged_svd_50_results</td>\n",
       "      <td>0.59</td>\n",
       "      <td>0.51</td>\n",
       "      <td>0.45</td>\n",
       "      <td>0.56</td>\n",
       "      <td>0.50</td>\n",
       "      <td>0.64</td>\n",
       "      <td>0.94</td>\n",
       "    </tr>\n",
       "    <tr>\n",
       "      <th>2</th>\n",
       "      <td>merged_svd_300_results</td>\n",
       "      <td>0.64</td>\n",
       "      <td>0.53</td>\n",
       "      <td>0.45</td>\n",
       "      <td>0.57</td>\n",
       "      <td>0.51</td>\n",
       "      <td>0.64</td>\n",
       "      <td>0.96</td>\n",
       "    </tr>\n",
       "    <tr>\n",
       "      <th>3</th>\n",
       "      <td>merged_lda_150_results</td>\n",
       "      <td>0.70</td>\n",
       "      <td>0.46</td>\n",
       "      <td>0.44</td>\n",
       "      <td>0.55</td>\n",
       "      <td>0.47</td>\n",
       "      <td>0.63</td>\n",
       "      <td>0.87</td>\n",
       "    </tr>\n",
       "  </tbody>\n",
       "</table>\n",
       "</div>"
      ],
      "text/plain": [
       "                      name   age   ope   con   ext   agr   neu  gender\n",
       "0  psychographic_data_only  0.14  0.24  0.42  0.49  0.46  0.63    0.67\n",
       "1    merged_svd_50_results  0.59  0.51  0.45  0.56  0.50  0.64    0.94\n",
       "2   merged_svd_300_results  0.64  0.53  0.45  0.57  0.51  0.64    0.96\n",
       "3   merged_lda_150_results  0.70  0.46  0.44  0.55  0.47  0.63    0.87"
      ]
     },
     "execution_count": 46,
     "metadata": {},
     "output_type": "execute_result"
    }
   ],
   "source": [
    "merged_data_results"
   ]
  },
  {
   "cell_type": "code",
   "execution_count": 47,
   "metadata": {},
   "outputs": [],
   "source": [
    "merged_data_results.to_csv('results/merged_data_results.csv')"
   ]
  }
 ],
 "metadata": {
  "kernelspec": {
   "display_name": "Python 3 (ipykernel)",
   "language": "python",
   "name": "python3"
  },
  "language_info": {
   "codemirror_mode": {
    "name": "ipython",
    "version": 3
   },
   "file_extension": ".py",
   "mimetype": "text/x-python",
   "name": "python",
   "nbconvert_exporter": "python",
   "pygments_lexer": "ipython3",
   "version": "3.10.9"
  }
 },
 "nbformat": 4,
 "nbformat_minor": 4
}
